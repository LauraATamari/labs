{
  "cells": [
    {
      "cell_type": "markdown",
      "metadata": {
        "id": "FBGMl8eS9dgB"
      },
      "source": [
        "<a href=\"https://colab.research.google.com/github/arnaldojr/cognitivecomputing/blob/master/material/aulas/IA/lab05/validacaocruzada.ipynb\" target=\"_parent\"><img src=\"https://colab.research.google.com/assets/colab-badge.svg\" alt=\"Open In Colab\"/></a>"
      ]
    },
    {
      "cell_type": "markdown",
      "metadata": {
        "id": "QJ87eXue9dgC"
      },
      "source": [
        "## 2. Aprendizagem de máquina\n",
        "\n",
        "### Objetivos\n",
        "\n",
        "  - Entender e praticar validação cruzada: kfold.\n"
      ]
    },
    {
      "cell_type": "markdown",
      "metadata": {
        "id": "bhsEd_JQ9dgD"
      },
      "source": [
        "\n"
      ]
    },
    {
      "cell_type": "markdown",
      "metadata": {
        "id": "EQmm712e9dgD"
      },
      "source": [
        "## Validação Cruzada\n",
        "\n",
        "A técnica de validação cruzada consiste em dividir em partes pequenas (fold) a base de dados e realizar diversos treinamentos e validações com partes diferente de treinamento e teste, ao final é feita a média e o desvio padrão do aprendizado.\n",
        "\n",
        "Prós:\n",
        "  - Normalmente aumenta a performance do modelo.\n",
        "  - Reduz aleatoriedade, reduz viez.\n",
        "\n",
        "Contra:\n",
        "  - Mais processamento computacional.\n",
        "  \n",
        "Dicas:\n",
        "  - A escolha do `k` numero de folds é determinada tipicamente como sendo 5 ou 10."
      ]
    },
    {
      "cell_type": "markdown",
      "metadata": {
        "id": "B4PNcVDE9dgD"
      },
      "source": [
        "## Diagrama do kfold\n",
        "\n",
        "<img src=\"https://github.com/arnaldojr/cognitivecomputing/blob/master/material/aulas/IA/lab05/07_cross_validation_diagram.png?raw=1\" width=\"450\">\n"
      ]
    },
    {
      "cell_type": "code",
      "execution_count": 1,
      "metadata": {
        "id": "_ZrJZYW79dgD"
      },
      "outputs": [],
      "source": [
        "from sklearn.datasets import load_iris\n",
        "from sklearn.model_selection import train_test_split\n",
        "from sklearn.neighbors import KNeighborsClassifier\n",
        "from sklearn import metrics"
      ]
    },
    {
      "cell_type": "code",
      "execution_count": 2,
      "metadata": {
        "id": "rlQJEFOd9dgE"
      },
      "outputs": [],
      "source": [
        "# importa o dataset iris\n",
        "iris = load_iris()\n",
        "\n",
        "# separa os dados em atributos (x) e alvo (y)\n",
        "X = iris.data\n",
        "y = iris.target"
      ]
    },
    {
      "cell_type": "code",
      "execution_count": 13,
      "metadata": {
        "id": "M6rTNomm9dgE",
        "outputId": "d74fe881-926b-42ef-c2bb-8edf31dd91b4",
        "colab": {
          "base_uri": "https://localhost:8080/"
        }
      },
      "outputs": [
        {
          "output_type": "execute_result",
          "data": {
            "text/plain": [
              "0.9"
            ]
          },
          "metadata": {},
          "execution_count": 13
        }
      ],
      "source": [
        "# divide os dados em treino e teste\n",
        "X_train, X_test, y_train, y_test = train_test_split(X, y, test_size=0.2, random_state=7)\n",
        "\n",
        "# treina o modelo com knn=15\n",
        "knn = KNeighborsClassifier(n_neighbors=15)\n",
        "knn.fit(X_train, y_train)\n",
        "y_pred = knn.predict(X_test)\n",
        "\n",
        "# resultado da acuracia\n",
        "metrics.accuracy_score(y_test, y_pred)"
      ]
    },
    {
      "cell_type": "markdown",
      "metadata": {
        "id": "Nqq83_HX9dgF"
      },
      "source": [
        "## Melhorando o modelo\n",
        "\n",
        "Até aqui, sem novidades! Mas... como ficaria o resultado se os grupos de teste e treino fossem alterados? vamos descobrir usando o kfold.\n"
      ]
    },
    {
      "cell_type": "code",
      "execution_count": 4,
      "metadata": {
        "id": "4aSJ-9jK9dgF"
      },
      "outputs": [],
      "source": [
        "from sklearn.model_selection import KFold\n",
        "\n",
        "crossvalidation = KFold(n_splits=10,shuffle=True, random_state=7)\n",
        "\n",
        "knn = KNeighborsClassifier(n_neighbors=5)"
      ]
    },
    {
      "cell_type": "code",
      "execution_count": 5,
      "metadata": {
        "id": "vFlT4qo19dgF",
        "outputId": "47e78c73-c60f-48bd-f924-d7a42c06cff0",
        "colab": {
          "base_uri": "https://localhost:8080/"
        }
      },
      "outputs": [
        {
          "output_type": "stream",
          "name": "stdout",
          "text": [
            "Array do kfold com os resultados:  [0.86666667 0.86666667 1.         1.         1.         1.\n",
            " 1.         0.93333333 0.93333333 0.93333333]\n"
          ]
        }
      ],
      "source": [
        "from sklearn.model_selection import cross_val_score\n",
        "\n",
        "scores = cross_val_score(knn, X, y, cv=crossvalidation, scoring='accuracy')\n",
        "print(\"Array do kfold com os resultados: \",scores)"
      ]
    },
    {
      "cell_type": "code",
      "execution_count": 6,
      "metadata": {
        "id": "DfCT6tnE9dgF",
        "outputId": "3f494b9f-484c-4f95-a381-488da9d3d33c",
        "colab": {
          "base_uri": "https://localhost:8080/"
        }
      },
      "outputs": [
        {
          "output_type": "stream",
          "name": "stdout",
          "text": [
            "Acuracia média com kfold:  0.9533333333333334\n"
          ]
        }
      ],
      "source": [
        "print(\"Acuracia média com kfold: \",scores.mean())"
      ]
    },
    {
      "cell_type": "markdown",
      "metadata": {
        "id": "43GhCjB29dgG"
      },
      "source": [
        "## Pergunta: O Resultado foi praticamente o mesmo, por que?\n",
        "\n",
        "Poque ao final do Kfold, é feita a média e o desvio padrão do aprendizado de todos os resultados. Assim, não é tão diferente do resultado do KNN\n",
        "\n",
        "## Desafio: Implementamos kfold para o classificador KNN, implemente kfold para um modelo de regressão"
      ]
    },
    {
      "cell_type": "code",
      "execution_count": 17,
      "metadata": {
        "id": "nhtUvBNV9dgG",
        "outputId": "a942bcce-8424-4079-d1e9-1843c2cec6e0",
        "colab": {
          "base_uri": "https://localhost:8080/"
        }
      },
      "outputs": [
        {
          "output_type": "stream",
          "name": "stdout",
          "text": [
            "Array do kfold com os resultados:  [0.82559791 0.81147704 0.95118855 0.96425755 0.92715981 0.96710397\n",
            " 0.97387761 0.93103036 0.8808125  0.91442276]\n"
          ]
        }
      ],
      "source": [
        "from sklearn.linear_model import LinearRegression\n",
        "\n",
        "crossvalidation = KFold(n_splits=10,shuffle=True, random_state=7)\n",
        "\n",
        "linModel = LinearRegression()\n",
        "\n",
        "scores = cross_val_score(linModel, X, y, cv=crossvalidation, scoring='r2')\n",
        "print(\"Array do kfold com os resultados: \",scores)\n"
      ]
    },
    {
      "cell_type": "code",
      "source": [
        "print(\"Acuracia média com kfold: \",scores.mean())"
      ],
      "metadata": {
        "id": "1WxLLzabG1_2",
        "outputId": "fdf478af-bcbb-4613-ae20-7824dbedd9f9",
        "colab": {
          "base_uri": "https://localhost:8080/"
        }
      },
      "execution_count": 18,
      "outputs": [
        {
          "output_type": "stream",
          "name": "stdout",
          "text": [
            "Acuracia média com kfold:  0.9146928063470222\n"
          ]
        }
      ]
    },
    {
      "cell_type": "markdown",
      "metadata": {
        "id": "u952McYn9dgG"
      },
      "source": [
        "## Bonus: Outras técnicas de avaliação de modelo\n",
        "\n",
        "- `StratifiedKFold` = Lida melhor com dados desbalanceados, ou seja, possui uma diferça grande entre as frequencias das classes, pois tentar manter a mesma proporção em todos os folds.\n",
        "\n",
        "\n",
        "- `ShuffleSplit` = Gera folds aleatorios de treino e teste a cada iteração. Um cuidado, pode ser que entre uma iteração e outra os mesmos dados sejam selecionados\n"
      ]
    },
    {
      "cell_type": "code",
      "execution_count": 19,
      "metadata": {
        "id": "49Gf8FV59dgG"
      },
      "outputs": [],
      "source": [
        "from sklearn.model_selection import KFold, StratifiedKFold, ShuffleSplit"
      ]
    },
    {
      "cell_type": "code",
      "source": [
        "skf = StratifiedKFold(n_splits=10)\n",
        "skf.get_n_splits(X, y)\n",
        "print(skf)"
      ],
      "metadata": {
        "id": "jheYT11ZG50w",
        "outputId": "90d73b1b-1e18-447f-b974-1ffc2326fbcb",
        "colab": {
          "base_uri": "https://localhost:8080/"
        }
      },
      "execution_count": 21,
      "outputs": [
        {
          "output_type": "stream",
          "name": "stdout",
          "text": [
            "StratifiedKFold(n_splits=10, random_state=None, shuffle=False)\n"
          ]
        }
      ]
    },
    {
      "cell_type": "code",
      "source": [
        "for i, (X_train, X_test) in enumerate(skf.split(X, y)):\n",
        "  print(f'Fold {i}:')\n",
        "  print(f\"  Train: index={X_train}\")\n",
        "  print(f\"  Test:  index={X_test}\")"
      ],
      "metadata": {
        "id": "pSekYtVbHGMB",
        "outputId": "91dcc281-90ae-4eca-db95-99d975d28c15",
        "colab": {
          "base_uri": "https://localhost:8080/"
        }
      },
      "execution_count": 22,
      "outputs": [
        {
          "output_type": "stream",
          "name": "stdout",
          "text": [
            "Fold 0:\n",
            "  Train: index=[  5   6   7   8   9  10  11  12  13  14  15  16  17  18  19  20  21  22\n",
            "  23  24  25  26  27  28  29  30  31  32  33  34  35  36  37  38  39  40\n",
            "  41  42  43  44  45  46  47  48  49  55  56  57  58  59  60  61  62  63\n",
            "  64  65  66  67  68  69  70  71  72  73  74  75  76  77  78  79  80  81\n",
            "  82  83  84  85  86  87  88  89  90  91  92  93  94  95  96  97  98  99\n",
            " 105 106 107 108 109 110 111 112 113 114 115 116 117 118 119 120 121 122\n",
            " 123 124 125 126 127 128 129 130 131 132 133 134 135 136 137 138 139 140\n",
            " 141 142 143 144 145 146 147 148 149]\n",
            "  Test:  index=[  0   1   2   3   4  50  51  52  53  54 100 101 102 103 104]\n",
            "Fold 1:\n",
            "  Train: index=[  0   1   2   3   4  10  11  12  13  14  15  16  17  18  19  20  21  22\n",
            "  23  24  25  26  27  28  29  30  31  32  33  34  35  36  37  38  39  40\n",
            "  41  42  43  44  45  46  47  48  49  50  51  52  53  54  60  61  62  63\n",
            "  64  65  66  67  68  69  70  71  72  73  74  75  76  77  78  79  80  81\n",
            "  82  83  84  85  86  87  88  89  90  91  92  93  94  95  96  97  98  99\n",
            " 100 101 102 103 104 110 111 112 113 114 115 116 117 118 119 120 121 122\n",
            " 123 124 125 126 127 128 129 130 131 132 133 134 135 136 137 138 139 140\n",
            " 141 142 143 144 145 146 147 148 149]\n",
            "  Test:  index=[  5   6   7   8   9  55  56  57  58  59 105 106 107 108 109]\n",
            "Fold 2:\n",
            "  Train: index=[  0   1   2   3   4   5   6   7   8   9  15  16  17  18  19  20  21  22\n",
            "  23  24  25  26  27  28  29  30  31  32  33  34  35  36  37  38  39  40\n",
            "  41  42  43  44  45  46  47  48  49  50  51  52  53  54  55  56  57  58\n",
            "  59  65  66  67  68  69  70  71  72  73  74  75  76  77  78  79  80  81\n",
            "  82  83  84  85  86  87  88  89  90  91  92  93  94  95  96  97  98  99\n",
            " 100 101 102 103 104 105 106 107 108 109 115 116 117 118 119 120 121 122\n",
            " 123 124 125 126 127 128 129 130 131 132 133 134 135 136 137 138 139 140\n",
            " 141 142 143 144 145 146 147 148 149]\n",
            "  Test:  index=[ 10  11  12  13  14  60  61  62  63  64 110 111 112 113 114]\n",
            "Fold 3:\n",
            "  Train: index=[  0   1   2   3   4   5   6   7   8   9  10  11  12  13  14  20  21  22\n",
            "  23  24  25  26  27  28  29  30  31  32  33  34  35  36  37  38  39  40\n",
            "  41  42  43  44  45  46  47  48  49  50  51  52  53  54  55  56  57  58\n",
            "  59  60  61  62  63  64  70  71  72  73  74  75  76  77  78  79  80  81\n",
            "  82  83  84  85  86  87  88  89  90  91  92  93  94  95  96  97  98  99\n",
            " 100 101 102 103 104 105 106 107 108 109 110 111 112 113 114 120 121 122\n",
            " 123 124 125 126 127 128 129 130 131 132 133 134 135 136 137 138 139 140\n",
            " 141 142 143 144 145 146 147 148 149]\n",
            "  Test:  index=[ 15  16  17  18  19  65  66  67  68  69 115 116 117 118 119]\n",
            "Fold 4:\n",
            "  Train: index=[  0   1   2   3   4   5   6   7   8   9  10  11  12  13  14  15  16  17\n",
            "  18  19  25  26  27  28  29  30  31  32  33  34  35  36  37  38  39  40\n",
            "  41  42  43  44  45  46  47  48  49  50  51  52  53  54  55  56  57  58\n",
            "  59  60  61  62  63  64  65  66  67  68  69  75  76  77  78  79  80  81\n",
            "  82  83  84  85  86  87  88  89  90  91  92  93  94  95  96  97  98  99\n",
            " 100 101 102 103 104 105 106 107 108 109 110 111 112 113 114 115 116 117\n",
            " 118 119 125 126 127 128 129 130 131 132 133 134 135 136 137 138 139 140\n",
            " 141 142 143 144 145 146 147 148 149]\n",
            "  Test:  index=[ 20  21  22  23  24  70  71  72  73  74 120 121 122 123 124]\n",
            "Fold 5:\n",
            "  Train: index=[  0   1   2   3   4   5   6   7   8   9  10  11  12  13  14  15  16  17\n",
            "  18  19  20  21  22  23  24  30  31  32  33  34  35  36  37  38  39  40\n",
            "  41  42  43  44  45  46  47  48  49  50  51  52  53  54  55  56  57  58\n",
            "  59  60  61  62  63  64  65  66  67  68  69  70  71  72  73  74  80  81\n",
            "  82  83  84  85  86  87  88  89  90  91  92  93  94  95  96  97  98  99\n",
            " 100 101 102 103 104 105 106 107 108 109 110 111 112 113 114 115 116 117\n",
            " 118 119 120 121 122 123 124 130 131 132 133 134 135 136 137 138 139 140\n",
            " 141 142 143 144 145 146 147 148 149]\n",
            "  Test:  index=[ 25  26  27  28  29  75  76  77  78  79 125 126 127 128 129]\n",
            "Fold 6:\n",
            "  Train: index=[  0   1   2   3   4   5   6   7   8   9  10  11  12  13  14  15  16  17\n",
            "  18  19  20  21  22  23  24  25  26  27  28  29  35  36  37  38  39  40\n",
            "  41  42  43  44  45  46  47  48  49  50  51  52  53  54  55  56  57  58\n",
            "  59  60  61  62  63  64  65  66  67  68  69  70  71  72  73  74  75  76\n",
            "  77  78  79  85  86  87  88  89  90  91  92  93  94  95  96  97  98  99\n",
            " 100 101 102 103 104 105 106 107 108 109 110 111 112 113 114 115 116 117\n",
            " 118 119 120 121 122 123 124 125 126 127 128 129 135 136 137 138 139 140\n",
            " 141 142 143 144 145 146 147 148 149]\n",
            "  Test:  index=[ 30  31  32  33  34  80  81  82  83  84 130 131 132 133 134]\n",
            "Fold 7:\n",
            "  Train: index=[  0   1   2   3   4   5   6   7   8   9  10  11  12  13  14  15  16  17\n",
            "  18  19  20  21  22  23  24  25  26  27  28  29  30  31  32  33  34  40\n",
            "  41  42  43  44  45  46  47  48  49  50  51  52  53  54  55  56  57  58\n",
            "  59  60  61  62  63  64  65  66  67  68  69  70  71  72  73  74  75  76\n",
            "  77  78  79  80  81  82  83  84  90  91  92  93  94  95  96  97  98  99\n",
            " 100 101 102 103 104 105 106 107 108 109 110 111 112 113 114 115 116 117\n",
            " 118 119 120 121 122 123 124 125 126 127 128 129 130 131 132 133 134 140\n",
            " 141 142 143 144 145 146 147 148 149]\n",
            "  Test:  index=[ 35  36  37  38  39  85  86  87  88  89 135 136 137 138 139]\n",
            "Fold 8:\n",
            "  Train: index=[  0   1   2   3   4   5   6   7   8   9  10  11  12  13  14  15  16  17\n",
            "  18  19  20  21  22  23  24  25  26  27  28  29  30  31  32  33  34  35\n",
            "  36  37  38  39  45  46  47  48  49  50  51  52  53  54  55  56  57  58\n",
            "  59  60  61  62  63  64  65  66  67  68  69  70  71  72  73  74  75  76\n",
            "  77  78  79  80  81  82  83  84  85  86  87  88  89  95  96  97  98  99\n",
            " 100 101 102 103 104 105 106 107 108 109 110 111 112 113 114 115 116 117\n",
            " 118 119 120 121 122 123 124 125 126 127 128 129 130 131 132 133 134 135\n",
            " 136 137 138 139 145 146 147 148 149]\n",
            "  Test:  index=[ 40  41  42  43  44  90  91  92  93  94 140 141 142 143 144]\n",
            "Fold 9:\n",
            "  Train: index=[  0   1   2   3   4   5   6   7   8   9  10  11  12  13  14  15  16  17\n",
            "  18  19  20  21  22  23  24  25  26  27  28  29  30  31  32  33  34  35\n",
            "  36  37  38  39  40  41  42  43  44  50  51  52  53  54  55  56  57  58\n",
            "  59  60  61  62  63  64  65  66  67  68  69  70  71  72  73  74  75  76\n",
            "  77  78  79  80  81  82  83  84  85  86  87  88  89  90  91  92  93  94\n",
            " 100 101 102 103 104 105 106 107 108 109 110 111 112 113 114 115 116 117\n",
            " 118 119 120 121 122 123 124 125 126 127 128 129 130 131 132 133 134 135\n",
            " 136 137 138 139 140 141 142 143 144]\n",
            "  Test:  index=[ 45  46  47  48  49  95  96  97  98  99 145 146 147 148 149]\n"
          ]
        }
      ]
    },
    {
      "cell_type": "code",
      "source": [
        "rs = ShuffleSplit(n_splits=5, test_size=5, random_state=0)\n",
        "rs.get_n_splits(X)"
      ],
      "metadata": {
        "id": "TNVHUftlOR_A",
        "outputId": "666abb8e-9d5b-4a7b-87cb-7539c948fd3c",
        "colab": {
          "base_uri": "https://localhost:8080/"
        }
      },
      "execution_count": 23,
      "outputs": [
        {
          "output_type": "execute_result",
          "data": {
            "text/plain": [
              "5"
            ]
          },
          "metadata": {},
          "execution_count": 23
        }
      ]
    },
    {
      "cell_type": "code",
      "source": [
        "ShuffleSplit(n_splits=5, random_state=0, test_size=0.25, train_size=None)\n",
        "for i, (X_train, X_test) in enumerate(rs.split(X)):\n",
        "  print(f\"Fold{i}:\")\n",
        "  print(f\"Train: index={X_train}:\")\n",
        "  print(f\"Train: index={X_test}:\")\n",
        "\n"
      ],
      "metadata": {
        "id": "6zzCFRmDOkx6",
        "outputId": "82abcb2d-44bd-472b-d175-e7b73248ec2e",
        "colab": {
          "base_uri": "https://localhost:8080/"
        }
      },
      "execution_count": 25,
      "outputs": [
        {
          "output_type": "stream",
          "name": "stdout",
          "text": [
            "Fold0:\n",
            "Train: index=[100  40  86  76  71 134  51  73  54  63  37  78  90  45  16 121  66  24\n",
            "   8 126  22  44  97  93  26 137  84  27 127 132  59  18  83  61  92 112\n",
            "   2 141  43  10  60 116 144 119 108  69 135  56  80 123 133 106 146  50\n",
            " 147  85  30 101  94  64  89  91 125  48  13 111  95  20  15  52   3 149\n",
            "  98   6  68 109  96  12 102 120 104 128  46  11 110 124  41 148   1 113\n",
            " 139  42   4 129  17  38   5  53 143 105   0  34  28  55  75  35  23  74\n",
            "  31 118  57 131  65  32 138  14 122  19  29 130  49 136  99  82  79 115\n",
            " 145  72  77  25  81 140 142  39  58  88  70  87  36  21   9 103  67 117\n",
            "  47]:\n",
            "Train: index=[114  62  33 107   7]:\n",
            "Fold1:\n",
            "Train: index=[143 122  63  26  64  42 108  91  77  22 148   6  65  47  68  60  15 124\n",
            "  58 142  12  59 105  89  78  52 131 113  98  30 136  66 133  49  62  74\n",
            "  17 106   8 135  80 107  90   0  36 112   5  57 102  55  34 128  33  21\n",
            "  73   7  45 129 103 146 120  94  50 134  99 126 114   9  39  97 101  29\n",
            "  81  20  46  51  53  23  27   2  28  37 111  10  84 137 127  43  87  69\n",
            " 144 140  35  76   3  82 145 116  88  44 147   1  93  38  11 115  54  40\n",
            "  18  41  79  24  56  71  13  31  85  70 132 125 123 100  32 104  83 117\n",
            " 118 138  25 110  16  75 109 121  86 139   4  96  14  61  67 149  95  19\n",
            "  72]:\n",
            "Train: index=[ 92 141 130 119  48]:\n",
            "Fold2:\n",
            "Train: index=[104 121  12  31  96 113 102  60  66 119  62  76  69  46 129   1  10   3\n",
            "  95  21  41  57  47  78  19 107  90   9 147 148  40  29  27  89  37  33\n",
            "  84  54  88  73 111 125 101 143  23 117  50 146   2 110 118 131  17   6\n",
            " 127  67 124  15  56 115 112  71 145 100  38  80 109  44 144 130  35  97\n",
            "  59  48 134  70  65  98 138  55  43 132 103  30 114  34  18 141 139  49\n",
            "  52  74  26  45 126  39   4  11  53 149  79   8   0   5 133  61 135   7\n",
            "  83  99  22  68  82  20  28  86  14  42  32  25  36  92  75  64 142 120\n",
            "  81  58  13 140  72  87 123  93  91 136  51 116  24  94 106  16  63 128\n",
            " 105]:\n",
            "Train: index=[ 85 137  77 108 122]:\n",
            "Fold3:\n",
            "Train: index=[122 146  80  90 117 111  75 147 143  97  76 123 139 137  54  34 115  64\n",
            "  65  25 142 119  40  63  42  19 105  93  16 106  12  33  52  29  31  77\n",
            "  27  37  14  48   2  56   1 135  81  18 104 100  41  15 148  53  79   6\n",
            "  98 132  13  11  10 136  47  60  61 103 145  22 130  55  82 112 149  62\n",
            " 141 120  86  20  66  35  17  88   4  45  50  57  59  44  70  32  78 133\n",
            " 110  96  87  74  89  38  51 116  46  43   8  92 101  21 127 118  73  30\n",
            " 107 124   5   0  95  83  71 144 102 126 108  91  85  67   7  84  72  94\n",
            " 125 109  26  68  28 121   3 134  69  99  36  24  39 128 113 129  58 140\n",
            " 131]:\n",
            "Train: index=[114  49 138  23   9]:\n",
            "Fold4:\n",
            "Train: index=[ 31 132  22 113  41  14   5  88  16 135 122   1 115  67  13 130 116  11\n",
            " 106 148  56  43  75  60 131 139  98  27   6  38  93   0  19  85  95  44\n",
            "  68 134  59 118  54 103   8  79  30  91 138 112  50  96 146  70  61  99\n",
            "  39  84 104 117 101  10   2   9  66  83 121  26  28  42  20  65 137 109\n",
            " 102  80  71 114  51 128  86  37  92  48 142 107 140 110  73  76  64  52\n",
            " 149 144  87  34  32 105  12  29 147 111  46  53   7 145  97  18  33 120\n",
            "  55  49 126  36  40 123   3  24  94  63 141  17   4  58  69  82 125  89\n",
            "  57  47  45  72  62  78  74  90 133 129 127 119  21  25 136  35  81  77\n",
            " 100]:\n",
            "Train: index=[ 15 143  23 108 124]:\n"
          ]
        }
      ]
    },
    {
      "cell_type": "code",
      "source": [],
      "metadata": {
        "id": "RPD1N-fhPNOF"
      },
      "execution_count": null,
      "outputs": []
    }
  ],
  "metadata": {
    "interpreter": {
      "hash": "916dbcbb3f70747c44a77c7bcd40155683ae19c65e1c03b4aa3499c5328201f1"
    },
    "kernelspec": {
      "display_name": "Python 3",
      "language": "python",
      "name": "python3"
    },
    "language_info": {
      "codemirror_mode": {
        "name": "ipython",
        "version": 3
      },
      "file_extension": ".py",
      "mimetype": "text/x-python",
      "name": "python",
      "nbconvert_exporter": "python",
      "pygments_lexer": "ipython3",
      "version": "3.9.5"
    },
    "colab": {
      "provenance": []
    }
  },
  "nbformat": 4,
  "nbformat_minor": 0
}